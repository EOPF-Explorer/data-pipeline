{
 "cells": [
  {
   "cell_type": "markdown",
   "id": "e80abebf",
   "metadata": {},
   "source": [
    "# GeoZarr Quickstart: S3 Access & RGB Visualization\n",
    "\n",
    "**Load cloud-optimized GeoZarr from S3, inspect embedded metadata, create RGB composites.**\n",
    "\n",
    "**Setup:** `uv sync --extra notebooks` + AWS credentials  \n",
    "**Dataset:** Sentinel-2 L2A tile (10m bands), pyramids 0-4, STAC-embedded"
   ]
  },
  {
   "cell_type": "markdown",
   "id": "57b5bc03",
   "metadata": {},
   "source": [
    "## 1. Setup"
   ]
  },
  {
   "cell_type": "code",
   "execution_count": null,
   "id": "a53b7dba",
   "metadata": {},
   "outputs": [],
   "source": [
    "import matplotlib.pyplot as plt\n",
    "import numpy as np\n",
    "import xarray as xr\n",
    "\n",
    "# Configure display settings\n",
    "xr.set_options(display_style=\"text\", display_width=100)"
   ]
  },
  {
   "cell_type": "markdown",
   "id": "73c00d6f",
   "metadata": {},
   "source": [
    "## 2. S3 Credentials (auto-detect from K8s secret or env vars)"
   ]
  },
  {
   "cell_type": "code",
   "execution_count": null,
   "id": "af16662a",
   "metadata": {},
   "outputs": [],
   "source": [
    "import base64\n",
    "import os\n",
    "import subprocess\n",
    "from pathlib import Path\n",
    "\n",
    "# Find kubectl (search PATH and common locations)\n",
    "kubectl_locations = [\n",
    "    \"kubectl\",  # Use PATH\n",
    "    \"/opt/homebrew/bin/kubectl\",  # Homebrew Apple Silicon\n",
    "    \"/usr/local/bin/kubectl\",  # Homebrew Intel / Linux\n",
    "    \"/usr/bin/kubectl\",  # System (Linux)\n",
    "    str(Path.home() / \".local/bin/kubectl\"),  # User install (Linux)\n",
    "]\n",
    "kubectl = next((k for k in kubectl_locations if k == \"kubectl\" or Path(k).exists()), \"kubectl\")\n",
    "\n",
    "# Auto-detect kubeconfig (relative to notebook location or environment)\n",
    "kubeconfig_paths = [\n",
    "    Path.cwd().parent / \".work/kubeconfig\",  # Relative: ../work/kubeconfig from notebooks/\n",
    "    Path(os.getenv(\"KUBECONFIG\", \"\")),  # Environment variable\n",
    "    Path.home() / \".kube/config\",  # Default kubectl location\n",
    "]\n",
    "kubeconfig = next((str(p) for p in kubeconfig_paths if p.exists()), None)\n",
    "\n",
    "# Try to fetch S3 credentials from Kubernetes if missing\n",
    "if (not os.getenv(\"AWS_SECRET_ACCESS_KEY\") or not os.getenv(\"AWS_ACCESS_KEY_ID\")) and kubeconfig:\n",
    "    try:\n",
    "        for key in [\"AWS_ACCESS_KEY_ID\", \"AWS_SECRET_ACCESS_KEY\"]:\n",
    "            result = subprocess.run(\n",
    "                [\n",
    "                    kubectl,\n",
    "                    \"get\",\n",
    "                    \"secret\",\n",
    "                    \"geozarr-s3-credentials\",\n",
    "                    \"-n\",\n",
    "                    \"devseed\",\n",
    "                    \"-o\",\n",
    "                    f\"jsonpath={{.data.{key}}}\",\n",
    "                ],\n",
    "                env={\"KUBECONFIG\": kubeconfig},\n",
    "                capture_output=True,\n",
    "                text=True,\n",
    "                timeout=5,\n",
    "            )\n",
    "            if result.returncode == 0 and result.stdout:\n",
    "                os.environ[key] = base64.b64decode(result.stdout).decode()\n",
    "    except Exception:\n",
    "        pass\n",
    "\n",
    "# Set default endpoint (matches pipeline configuration in augment_stac_item.py)\n",
    "if not os.getenv(\"AWS_ENDPOINT_URL\"):\n",
    "    os.environ[\"AWS_ENDPOINT_URL\"] = \"https://s3.de.io.cloud.ovh.net\"\n",
    "\n",
    "# Verify credentials\n",
    "required_env_vars = {\n",
    "    \"AWS_ACCESS_KEY_ID\": os.getenv(\"AWS_ACCESS_KEY_ID\"),\n",
    "    \"AWS_SECRET_ACCESS_KEY\": os.getenv(\"AWS_SECRET_ACCESS_KEY\"),\n",
    "    \"AWS_ENDPOINT_URL\": os.getenv(\"AWS_ENDPOINT_URL\"),\n",
    "}\n",
    "\n",
    "missing = [k for k, v in required_env_vars.items() if not v and k != \"AWS_ENDPOINT_URL\"]\n",
    "\n",
    "if missing:\n",
    "    print(\"\\n❌ Missing AWS credentials!\")\n",
    "    print(f\"   Required: {', '.join(missing)}\\n\")\n",
    "    print(\"📖 Manual setup:\")\n",
    "    print(\"   export AWS_ACCESS_KEY_ID='your-key'\")\n",
    "    print(\"   export AWS_SECRET_ACCESS_KEY='your-secret'\")\n",
    "    print(\"\\n📖 Or get from Kubernetes:\")\n",
    "    if kubeconfig:\n",
    "        print(f\"   export KUBECONFIG='{kubeconfig}'\")\n",
    "        print(\"   kubectl get secret geozarr-s3-credentials -n devseed -o json\")\n",
    "    print(\"\\n   See notebooks/README.md for detailed setup instructions\")\n",
    "else:\n",
    "    print(f\"✅ AWS configured: {required_env_vars['AWS_ENDPOINT_URL']}\")"
   ]
  },
  {
   "cell_type": "markdown",
   "id": "6d0fb38d",
   "metadata": {},
   "source": [
    "## 3. Load RGB bands (level 4 pyramid: 686×686px, ~3.6MB/band)"
   ]
  },
  {
   "cell_type": "code",
   "execution_count": null,
   "id": "c8bcadff",
   "metadata": {},
   "outputs": [],
   "source": [
    "import dask.array as da\n",
    "import s3fs\n",
    "import zarr\n",
    "\n",
    "# S3 dataset path\n",
    "s3_base = \"s3://esa-zarr-sentinel-explorer-fra/tests-output/sentinel-2-l2a/S2B_MSIL2A_20250921T100029_N0511_R122_T33TUG_20250921T135752.zarr\"\n",
    "\n",
    "# Open S3 filesystem\n",
    "fs = s3fs.S3FileSystem(anon=False, client_kwargs={\"endpoint_url\": os.getenv(\"AWS_ENDPOINT_URL\")})\n",
    "\n",
    "# Load RGB bands at level 4 (overview) with Dask\n",
    "bands = {}\n",
    "level = 4\n",
    "for band_name, band_id in [(\"Blue\", \"b02\"), (\"Green\", \"b03\"), (\"Red\", \"b04\")]:\n",
    "    band_path = f\"{s3_base[5:]}/measurements/reflectance/r10m/{level}/{band_id}\"\n",
    "    store = s3fs.S3Map(root=band_path, s3=fs)\n",
    "    z_array = zarr.open(store, mode=\"r\")\n",
    "    bands[band_name] = xr.DataArray(da.from_zarr(store), dims=[\"y\", \"x\"], attrs=dict(z_array.attrs))\n",
    "\n",
    "# Combine into dataset\n",
    "ds = xr.Dataset(bands)\n",
    "print(f\"✓ Loaded {len(ds.data_vars)} bands at 10m resolution (level {level})\")\n",
    "print(f\"  Shape: {ds['Red'].shape}, Size: ~{ds['Red'].nbytes / 1024**2:.1f}MB per band\")\n",
    "ds"
   ]
  },
  {
   "cell_type": "markdown",
   "id": "189da35c",
   "metadata": {},
   "source": [
    "## 4. STAC metadata (embedded in .zattrs)"
   ]
  },
  {
   "cell_type": "code",
   "execution_count": null,
   "id": "d822c2d4",
   "metadata": {},
   "outputs": [],
   "source": [
    "# Access embedded STAC metadata\n",
    "stac_item = ds.attrs.get(\"stac_item\", {})\n",
    "\n",
    "print(f\"📍 Item: {stac_item.get('id')}\")\n",
    "print(f\"📦 Collection: {stac_item.get('collection')}\")\n",
    "print(f\"🗓️  Datetime: {stac_item.get('properties', {}).get('datetime')}\")\n",
    "print(f\"🌍 Bbox: {stac_item.get('bbox')}\")"
   ]
  },
  {
   "cell_type": "markdown",
   "id": "156c60b1",
   "metadata": {},
   "source": [
    "## 5. Geospatial properties (CRS, resolution, extent)"
   ]
  },
  {
   "cell_type": "code",
   "execution_count": null,
   "id": "250877fd",
   "metadata": {},
   "outputs": [],
   "source": [
    "# Geospatial properties\n",
    "crs = ds.attrs.get(\"crs\", \"Unknown\")\n",
    "x_res = float((ds.x[1] - ds.x[0]).values) if len(ds.x) > 1 else 0\n",
    "y_res = float((ds.y[1] - ds.y[0]).values) if len(ds.y) > 1 else 0\n",
    "\n",
    "print(f\"🗺️  CRS: {crs}\")\n",
    "print(f\"📏 Dimensions: {len(ds.y)}×{len(ds.x)} pixels\")\n",
    "print(f\"🔍 Resolution: {abs(x_res):.1f}m × {abs(y_res):.1f}m\")"
   ]
  },
  {
   "cell_type": "markdown",
   "id": "4f4fd1a7",
   "metadata": {},
   "source": [
    "## 6. RGB composite (2-98% percentile stretch)"
   ]
  },
  {
   "cell_type": "code",
   "execution_count": null,
   "id": "50a65bf8",
   "metadata": {},
   "outputs": [],
   "source": [
    "# Extract RGB bands\n",
    "red = ds[\"Red\"].values\n",
    "green = ds[\"Green\"].values\n",
    "blue = ds[\"Blue\"].values\n",
    "\n",
    "\n",
    "# Normalize with percentile stretch\n",
    "def normalize(band):\n",
    "    band = np.nan_to_num(band, nan=0)\n",
    "    p2, p98 = np.percentile(band[np.isfinite(band)], [2, 98])\n",
    "    return np.clip((band - p2) / (p98 - p2), 0, 1)\n",
    "\n",
    "\n",
    "rgb = np.dstack([normalize(red), normalize(green), normalize(blue)])\n",
    "\n",
    "# Plot\n",
    "fig, ax = plt.subplots(figsize=(12, 10))\n",
    "ax.imshow(rgb, aspect=\"auto\")\n",
    "ax.set_title(\"Sentinel-2 True Color RGB Composite (10m, level 4)\", fontsize=14, fontweight=\"bold\")\n",
    "ax.set_xlabel(\"X (pixels)\", fontsize=11)\n",
    "ax.set_ylabel(\"Y (pixels)\", fontsize=11)\n",
    "ax.grid(True, alpha=0.3)\n",
    "plt.tight_layout()\n",
    "plt.show()"
   ]
  },
  {
   "cell_type": "markdown",
   "id": "64940955",
   "metadata": {},
   "source": [
    "## 7. Single band visualization + stats"
   ]
  },
  {
   "cell_type": "code",
   "execution_count": null,
   "id": "507bc779",
   "metadata": {},
   "outputs": [],
   "source": [
    "# Plot single band\n",
    "band_name = list(ds.data_vars)[0]\n",
    "band_data = ds[band_name]\n",
    "\n",
    "fig, ax = plt.subplots(figsize=(12, 10))\n",
    "im = ax.imshow(band_data.values, cmap=\"viridis\", aspect=\"auto\")\n",
    "ax.set_title(f\"Band: {band_name}\", fontsize=14, fontweight=\"bold\")\n",
    "ax.set_xlabel(\"X (pixels)\", fontsize=11)\n",
    "ax.set_ylabel(\"Y (pixels)\", fontsize=11)\n",
    "plt.colorbar(im, ax=ax, label=\"Reflectance\")\n",
    "plt.tight_layout()\n",
    "plt.show()\n",
    "\n",
    "# Statistics\n",
    "print(\n",
    "    f\"📊 {band_name}: min={np.nanmin(band_data.values):.3f}, max={np.nanmax(band_data.values):.3f}, mean={np.nanmean(band_data.values):.3f}\"\n",
    ")"
   ]
  },
  {
   "cell_type": "markdown",
   "id": "cdf1cd00",
   "metadata": {},
   "source": [
    "## Summary\n",
    "\n",
    "**Demonstrated:** Cloud-optimized S3 access, STAC metadata extraction, RGB visualization\n",
    "\n",
    "**GeoZarr benefits:**\n",
    "- Chunked storage → partial reads (no full download)\n",
    "- Embedded STAC → metadata + data in one place\n",
    "- Multi-resolution pyramids → fast tile serving\n",
    "- TiTiler-ready → web map integration\n",
    "\n",
    "**Next:** `02_pyramid_performance.ipynb` (benchmarks), `03_multi_resolution.ipynb` (pyramid levels)\n",
    "\n",
    "**Resources:** [STAC API](https://api.explorer.eopf.copernicus.eu/stac) | [Raster Viewer](https://api.explorer.eopf.copernicus.eu/raster/viewer) | [GitHub](https://github.com/EOPF-Explorer/data-pipeline)"
   ]
  }
 ],
 "metadata": {
  "kernelspec": {
   "display_name": "Python 3.11 (data-pipeline)",
   "language": "python",
   "name": "data-pipeline"
  },
  "language_info": {
   "codemirror_mode": {
    "name": "ipython",
    "version": 3
   },
   "file_extension": ".py",
   "mimetype": "text/x-python",
   "name": "python",
   "nbconvert_exporter": "python",
   "pygments_lexer": "ipython3",
   "version": "3.11.13"
  }
 },
 "nbformat": 4,
 "nbformat_minor": 5
}
